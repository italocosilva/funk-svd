{
 "cells": [
  {
   "cell_type": "markdown",
   "metadata": {},
   "source": [
    "### Implementing FunkSVD\n",
    "\n",
    "In this notebook we will take a look at writing our own function that performs FunkSVD, which will follow the steps you saw in the previous video.  If you find that you aren't ready to tackle this task on your own, feel free to skip to the following video where you can watch as I walk through the steps.\n",
    "\n",
    "To test our algorithm, we will run it on the subset of the data you worked with earlier.  Run the cell below to get started."
   ]
  },
  {
   "cell_type": "code",
   "execution_count": null,
   "metadata": {},
   "outputs": [],
   "source": [
    "import numpy as np\n",
    "import pandas as pd\n",
    "import matplotlib.pyplot as plt\n",
    "from scipy import sparse\n",
    "import svd_tests as t\n",
    "%matplotlib inline\n",
    "\n",
    "# Read in the datasets\n",
    "movies = pd.read_csv('data/movies_clean.csv')\n",
    "reviews = pd.read_csv('data/reviews_clean.csv')\n",
    "\n",
    "del movies['Unnamed: 0']\n",
    "del reviews['Unnamed: 0']\n",
    "\n",
    "# Create user-by-item matrix\n",
    "user_items = reviews[['user_id', 'movie_id', 'rating', 'timestamp']]\n",
    "user_by_movie = user_items.groupby(['user_id', 'movie_id'])['rating'].max().unstack()"
   ]
  },
  {
   "cell_type": "code",
   "execution_count": 56,
   "metadata": {},
   "outputs": [
    {
     "name": "stdout",
     "output_type": "stream",
     "text": [
      "[[ 10.  10.  10.  10.]\n",
      " [ 10.   4.   9.  10.]\n",
      " [  8.   9.  10.   5.]\n",
      " [  9.   8.  10.  10.]\n",
      " [ 10.   5.   9.   9.]\n",
      " [  6.   4.  10.   6.]\n",
      " [  9.   8.  10.   9.]\n",
      " [ 10.   5.   9.   8.]\n",
      " [  7.   8.  10.   8.]\n",
      " [  9.   5.   9.   7.]\n",
      " [  9.   8.  10.   8.]\n",
      " [  9.  10.  10.   9.]\n",
      " [ 10.   9.  10.   8.]\n",
      " [  5.   8.   5.   8.]\n",
      " [ 10.   8.  10.  10.]\n",
      " [  9.   9.  10.  10.]\n",
      " [  9.   8.   8.   8.]\n",
      " [ 10.   8.   1.  10.]\n",
      " [  5.   6.  10.  10.]\n",
      " [  8.   7.  10.   7.]]\n"
     ]
    }
   ],
   "source": [
    "# Create data subset\n",
    "user_movie_subset = user_by_movie[[73486, 75314,  68646, 99685]].dropna(axis=0)\n",
    "ratings_mat = np.matrix(user_movie_subset)\n",
    "print(ratings_mat)"
   ]
  },
  {
   "cell_type": "markdown",
   "metadata": {},
   "source": [
    "`1.` You will use the **user_movie_subset** matrix to show that your FunkSVD algorithm will converge.  In the below cell, use the comments and document string to assist you as you complete writing your own function to complete FunkSVD.  You may also want to try to complete the function on your own without the assistance of comments.  You may feel free to remove and add to the function in any way that gets you a working solution! \n",
    "\n",
    "**Notice:** There isn't a sigma matrix in this version of the matrix factorization."
   ]
  },
  {
   "cell_type": "code",
   "execution_count": 57,
   "metadata": {},
   "outputs": [],
   "source": [
    "user_mat = np.random.rand(20, 4) # user matrix filled with random values of shape user x latent \n",
    "movie_mat = np.random.rand(4, 4)"
   ]
  },
  {
   "cell_type": "code",
   "execution_count": 58,
   "metadata": {},
   "outputs": [
    {
     "data": {
      "text/plain": [
       "array([[ 0.19987384,  0.02653792,  0.1301313 ,  0.18262537],\n",
       "       [ 0.33701607,  0.14770909,  0.65373121,  0.95927137],\n",
       "       [ 0.53859931,  0.90243012,  0.73723993,  0.62038214],\n",
       "       [ 0.93049244,  0.16693103,  0.19121822,  0.2687542 ]])"
      ]
     },
     "execution_count": 58,
     "metadata": {},
     "output_type": "execute_result"
    }
   ],
   "source": [
    "movie_mat"
   ]
  },
  {
   "cell_type": "code",
   "execution_count": 59,
   "metadata": {},
   "outputs": [
    {
     "data": {
      "text/plain": [
       "array([ 0.19987384,  0.33701607,  0.53859931,  0.93049244])"
      ]
     },
     "execution_count": 59,
     "metadata": {},
     "output_type": "execute_result"
    }
   ],
   "source": [
    "movie_mat[:, 0]"
   ]
  },
  {
   "cell_type": "code",
   "execution_count": 60,
   "metadata": {},
   "outputs": [
    {
     "data": {
      "text/plain": [
       "array([ 0.85405168,  0.27889774,  0.91638575,  0.53735912])"
      ]
     },
     "execution_count": 60,
     "metadata": {},
     "output_type": "execute_result"
    }
   ],
   "source": [
    "user_mat[0,:]"
   ]
  },
  {
   "cell_type": "code",
   "execution_count": 61,
   "metadata": {},
   "outputs": [
    {
     "data": {
      "text/plain": [
       "array([ 0.85440113,  0.27948696,  0.91732741,  0.53898594])"
      ]
     },
     "execution_count": 61,
     "metadata": {},
     "output_type": "execute_result"
    }
   ],
   "source": [
    "user_mat[0,:]+2*(ratings_mat - np.dot(user_mat, movie_mat))[0,0]*movie_mat[:, 0]*0.0001"
   ]
  },
  {
   "cell_type": "code",
   "execution_count": 62,
   "metadata": {},
   "outputs": [],
   "source": [
    "error = (ratings_mat - np.dot(user_mat, movie_mat))"
   ]
  },
  {
   "cell_type": "code",
   "execution_count": 63,
   "metadata": {},
   "outputs": [
    {
     "data": {
      "text/plain": [
       "81.350721755978398"
      ]
     },
     "execution_count": 63,
     "metadata": {},
     "output_type": "execute_result"
    }
   ],
   "source": [
    "error[0,1]**2"
   ]
  },
  {
   "cell_type": "code",
   "execution_count": 64,
   "metadata": {},
   "outputs": [
    {
     "data": {
      "text/plain": [
       "4730.5258982998303"
      ]
     },
     "execution_count": 64,
     "metadata": {},
     "output_type": "execute_result"
    }
   ],
   "source": [
    "np.square(error).sum()"
   ]
  },
  {
   "cell_type": "code",
   "execution_count": 74,
   "metadata": {},
   "outputs": [],
   "source": [
    "def FunkSVD(ratings_mat, latent_features=4, learning_rate=0.0001, iters=100):\n",
    "    '''\n",
    "    This function performs matrix factorization using a basic form of FunkSVD with no regularization\n",
    "    \n",
    "    INPUT:\n",
    "    ratings_mat - (numpy array) a matrix with users as rows, movies as columns, and ratings as values\n",
    "    latent_features - (int) the number of latent features used\n",
    "    learning_rate - (float) the learning rate \n",
    "    iters - (int) the number of iterations\n",
    "    \n",
    "    OUTPUT:\n",
    "    user_mat - (numpy array) a user by latent feature matrix\n",
    "    movie_mat - (numpy array) a latent feature by movie matrix\n",
    "    '''\n",
    "    \n",
    "    # Set up useful values to be used through the rest of the function\n",
    "    n_users = ratings_mat.shape[0] # number of rows in the matrix\n",
    "    n_movies = ratings_mat.shape[1] # number of movies in the matrix\n",
    "    num_ratings = np.count_nonzero(~np.isnan(ratings_mat)) # total number of ratings in the matrix\n",
    "    \n",
    "    # initialize the user and movie matrices with random values\n",
    "    # helpful link: https://docs.scipy.org/doc/numpy/reference/generated/numpy.random.rand.html\n",
    "    user_mat = np.random.rand(n_users, latent_features) # user matrix filled with random values of shape user x latent \n",
    "    movie_mat = np.random.rand(latent_features, n_movies) # movie matrix filled with random values of shape latent x movies\n",
    "    \n",
    "    # initialize sse at 0 for first iteration\n",
    "    sse_accum = 0\n",
    "    \n",
    "    # header for running results\n",
    "    print(\"Optimization Statistics\")\n",
    "    print(\"Iterations | Mean Squared Error \")\n",
    "    \n",
    "    # for each iteration\n",
    "    iteration = 0\n",
    "    while iteration <= iters:\n",
    "        # update our sse\n",
    "        old_sse = sse_accum\n",
    "        sse_accum = 0\n",
    "        \n",
    "        # For each user-movie pair\n",
    "        for j in range(ratings_mat.shape[1]):\n",
    "            for i in range(ratings_mat.shape[0]):\n",
    "                \n",
    "                # if the rating exists\n",
    "                    if ~np.isnan(ratings_mat[i, j]):\n",
    "                        \n",
    "                    # compute the error as the actual minus the dot product of the user and movie latent features\n",
    "                        error = (ratings_mat[i,j] - np.dot(user_mat[i,:], movie_mat[:,j]))\n",
    "                    # Keep track of the total sum of squared errors for the matrix\n",
    "                        sse = error**2\n",
    "                        sse_accum = sse_accum + sse\n",
    "                    # update the values in each matrix in the direction of the gradient\n",
    "                        user_mat[i,:] = user_mat[i,:] + 2*error*movie_mat[:, j]*learning_rate\n",
    "                        movie_mat[:,j] = movie_mat[:,j] + 2*(ratings_mat[i,j] - np.dot(user_mat[i,:], movie_mat[:,j]))*user_mat[i,:]*learning_rate\n",
    "        # print results for iteration\n",
    "        mse = sse_accum / num_ratings\n",
    "        print(f\"{iteration} | {mse:.1f} \")\n",
    "        \n",
    "        iteration = iteration + 1\n",
    "    return user_mat, movie_mat "
   ]
  },
  {
   "cell_type": "markdown",
   "metadata": {},
   "source": [
    "`2.` Try out your function on the **user_movie_subset** dataset.  First try 4 latent features, a learning rate of 0.005, and 10 iterations.  When you take the dot product of the resulting U and V matrices, how does the resulting **user_movie** matrix compare to the original subset of the data?"
   ]
  },
  {
   "cell_type": "code",
   "execution_count": 75,
   "metadata": {},
   "outputs": [
    {
     "name": "stdout",
     "output_type": "stream",
     "text": [
      "Optimization Statistics\n",
      "Iterations | Mean Squared Error \n",
      "0 | 42.0 \n",
      "1 | 15.2 \n",
      "2 | 4.6 \n",
      "3 | 2.9 \n",
      "4 | 2.7 \n",
      "5 | 2.6 \n",
      "6 | 2.6 \n",
      "7 | 2.5 \n",
      "8 | 2.5 \n",
      "9 | 2.4 \n",
      "10 | 2.4 \n"
     ]
    }
   ],
   "source": [
    "user_mat, movie_mat = FunkSVD(ratings_mat, 4, 0.005, 10)# use your function with 4 latent features, lr of 0.005 and 10 iterations"
   ]
  },
  {
   "cell_type": "code",
   "execution_count": 76,
   "metadata": {},
   "outputs": [
    {
     "name": "stdout",
     "output_type": "stream",
     "text": [
      "[[ 10.38894039   8.94366573  10.23653663  10.42845493]\n",
      " [  8.68667167   7.54404807   9.05605256   8.69047595]\n",
      " [  7.6686285    6.78740541   8.63279285   7.68918559]\n",
      " [  9.68238259   8.35451303   9.81481428   9.63302888]\n",
      " [  8.61964705   7.47442292   8.92795084   8.48822794]\n",
      " [  6.44047385   5.87317794   7.92933776   6.52074576]\n",
      " [  9.18638708   8.03700696   9.91400153   9.00239289]\n",
      " [  8.31785242   7.23755137   8.38255781   8.30447314]\n",
      " [  8.47126818   7.3654997    9.23407348   8.21446011]\n",
      " [  7.69340717   6.72215581   8.16874617   7.58627074]\n",
      " [  8.7941772    7.72670977   9.61305393   8.67967866]\n",
      " [  9.50625798   8.40258018   9.97692053   9.71093802]\n",
      " [  9.48318991   8.13076261   9.59537383   9.26006826]\n",
      " [  6.77622151   5.84515873   6.67803724   6.74128448]\n",
      " [  9.744596     8.5189918   10.03432588   9.90401907]\n",
      " [  9.64716684   8.48957318  10.58483772   9.474145  ]\n",
      " [  8.23234063   7.24006854   8.88422082   8.18788087]\n",
      " [  7.56798133   6.32665297   6.36465737   7.76475091]\n",
      " [  8.43575723   7.30430006   8.44610395   8.57931266]\n",
      " [  8.05725864   7.10116169   8.85857384   7.9044047 ]]\n",
      "[[ nan  10.  10.  10.]\n",
      " [ 10.   4.   9.  10.]\n",
      " [  8.   9.  10.   5.]\n",
      " [  9.   8.  10.  10.]\n",
      " [ 10.   5.   9.   9.]\n",
      " [  6.   4.  10.   6.]\n",
      " [  9.   8.  10.   9.]\n",
      " [ 10.   5.   9.   8.]\n",
      " [  7.   8.  10.   8.]\n",
      " [  9.   5.   9.   7.]\n",
      " [  9.   8.  10.   8.]\n",
      " [  9.  10.  10.   9.]\n",
      " [ 10.   9.  10.   8.]\n",
      " [  5.   8.   5.   8.]\n",
      " [ 10.   8.  10.  10.]\n",
      " [  9.   9.  10.  10.]\n",
      " [  9.   8.   8.   8.]\n",
      " [ 10.   8.   1.  10.]\n",
      " [  5.   6.  10.  10.]\n",
      " [  8.   7.  10.   7.]]\n"
     ]
    }
   ],
   "source": [
    "#Compare the predicted and actual results\n",
    "print(np.dot(user_mat, movie_mat))\n",
    "print(ratings_mat)"
   ]
  },
  {
   "cell_type": "markdown",
   "metadata": {},
   "source": [
    "**Write your summary here.**"
   ]
  },
  {
   "cell_type": "markdown",
   "metadata": {},
   "source": [
    "`3.` Let's try out the function again on the **user_movie_subset** dataset.  This time we will again use 4 latent features and a learning rate of 0.005.  However, let's bump up the number of iterations to 250.  When you take the dot product of the resulting U and V matrices, how does the resulting **user_movie** matrix compare to the original subset of the data?  What do you notice about your error at the end of the 250 iterations?"
   ]
  },
  {
   "cell_type": "code",
   "execution_count": 77,
   "metadata": {},
   "outputs": [
    {
     "name": "stdout",
     "output_type": "stream",
     "text": [
      "Optimization Statistics\n",
      "Iterations | Mean Squared Error \n",
      "0 | 41.5 \n",
      "1 | 14.3 \n",
      "2 | 4.3 \n",
      "3 | 2.9 \n",
      "4 | 2.7 \n",
      "5 | 2.7 \n",
      "6 | 2.7 \n",
      "7 | 2.7 \n",
      "8 | 2.6 \n",
      "9 | 2.6 \n",
      "10 | 2.6 \n",
      "11 | 2.6 \n",
      "12 | 2.6 \n",
      "13 | 2.5 \n",
      "14 | 2.5 \n",
      "15 | 2.5 \n",
      "16 | 2.4 \n",
      "17 | 2.4 \n",
      "18 | 2.4 \n",
      "19 | 2.3 \n",
      "20 | 2.3 \n",
      "21 | 2.2 \n",
      "22 | 2.1 \n",
      "23 | 2.1 \n",
      "24 | 2.0 \n",
      "25 | 1.9 \n",
      "26 | 1.9 \n",
      "27 | 1.8 \n",
      "28 | 1.7 \n",
      "29 | 1.6 \n",
      "30 | 1.6 \n",
      "31 | 1.5 \n",
      "32 | 1.4 \n",
      "33 | 1.3 \n",
      "34 | 1.2 \n",
      "35 | 1.2 \n",
      "36 | 1.1 \n",
      "37 | 1.0 \n",
      "38 | 1.0 \n",
      "39 | 0.9 \n",
      "40 | 0.8 \n",
      "41 | 0.8 \n",
      "42 | 0.7 \n",
      "43 | 0.6 \n",
      "44 | 0.6 \n",
      "45 | 0.5 \n",
      "46 | 0.5 \n",
      "47 | 0.4 \n",
      "48 | 0.4 \n",
      "49 | 0.3 \n",
      "50 | 0.3 \n",
      "51 | 0.3 \n",
      "52 | 0.2 \n",
      "53 | 0.2 \n",
      "54 | 0.2 \n",
      "55 | 0.1 \n",
      "56 | 0.1 \n",
      "57 | 0.1 \n",
      "58 | 0.1 \n",
      "59 | 0.1 \n",
      "60 | 0.1 \n",
      "61 | 0.1 \n",
      "62 | 0.0 \n",
      "63 | 0.0 \n",
      "64 | 0.0 \n",
      "65 | 0.0 \n",
      "66 | 0.0 \n",
      "67 | 0.0 \n",
      "68 | 0.0 \n",
      "69 | 0.0 \n",
      "70 | 0.0 \n",
      "71 | 0.0 \n",
      "72 | 0.0 \n",
      "73 | 0.0 \n",
      "74 | 0.0 \n",
      "75 | 0.0 \n",
      "76 | 0.0 \n",
      "77 | 0.0 \n",
      "78 | 0.0 \n",
      "79 | 0.0 \n",
      "80 | 0.0 \n",
      "81 | 0.0 \n",
      "82 | 0.0 \n",
      "83 | 0.0 \n",
      "84 | 0.0 \n",
      "85 | 0.0 \n",
      "86 | 0.0 \n",
      "87 | 0.0 \n",
      "88 | 0.0 \n",
      "89 | 0.0 \n",
      "90 | 0.0 \n",
      "91 | 0.0 \n",
      "92 | 0.0 \n",
      "93 | 0.0 \n",
      "94 | 0.0 \n",
      "95 | 0.0 \n",
      "96 | 0.0 \n",
      "97 | 0.0 \n",
      "98 | 0.0 \n",
      "99 | 0.0 \n",
      "100 | 0.0 \n",
      "101 | 0.0 \n",
      "102 | 0.0 \n",
      "103 | 0.0 \n",
      "104 | 0.0 \n",
      "105 | 0.0 \n",
      "106 | 0.0 \n",
      "107 | 0.0 \n",
      "108 | 0.0 \n",
      "109 | 0.0 \n",
      "110 | 0.0 \n",
      "111 | 0.0 \n",
      "112 | 0.0 \n",
      "113 | 0.0 \n",
      "114 | 0.0 \n",
      "115 | 0.0 \n",
      "116 | 0.0 \n",
      "117 | 0.0 \n",
      "118 | 0.0 \n",
      "119 | 0.0 \n",
      "120 | 0.0 \n",
      "121 | 0.0 \n",
      "122 | 0.0 \n",
      "123 | 0.0 \n",
      "124 | 0.0 \n",
      "125 | 0.0 \n",
      "126 | 0.0 \n",
      "127 | 0.0 \n",
      "128 | 0.0 \n",
      "129 | 0.0 \n",
      "130 | 0.0 \n",
      "131 | 0.0 \n",
      "132 | 0.0 \n",
      "133 | 0.0 \n",
      "134 | 0.0 \n",
      "135 | 0.0 \n",
      "136 | 0.0 \n",
      "137 | 0.0 \n",
      "138 | 0.0 \n",
      "139 | 0.0 \n",
      "140 | 0.0 \n",
      "141 | 0.0 \n",
      "142 | 0.0 \n",
      "143 | 0.0 \n",
      "144 | 0.0 \n",
      "145 | 0.0 \n",
      "146 | 0.0 \n",
      "147 | 0.0 \n",
      "148 | 0.0 \n",
      "149 | 0.0 \n",
      "150 | 0.0 \n",
      "151 | 0.0 \n",
      "152 | 0.0 \n",
      "153 | 0.0 \n",
      "154 | 0.0 \n",
      "155 | 0.0 \n",
      "156 | 0.0 \n",
      "157 | 0.0 \n",
      "158 | 0.0 \n",
      "159 | 0.0 \n",
      "160 | 0.0 \n",
      "161 | 0.0 \n",
      "162 | 0.0 \n",
      "163 | 0.0 \n",
      "164 | 0.0 \n",
      "165 | 0.0 \n",
      "166 | 0.0 \n",
      "167 | 0.0 \n",
      "168 | 0.0 \n",
      "169 | 0.0 \n",
      "170 | 0.0 \n",
      "171 | 0.0 \n",
      "172 | 0.0 \n",
      "173 | 0.0 \n",
      "174 | 0.0 \n",
      "175 | 0.0 \n",
      "176 | 0.0 \n",
      "177 | 0.0 \n",
      "178 | 0.0 \n",
      "179 | 0.0 \n",
      "180 | 0.0 \n",
      "181 | 0.0 \n",
      "182 | 0.0 \n",
      "183 | 0.0 \n",
      "184 | 0.0 \n",
      "185 | 0.0 \n",
      "186 | 0.0 \n",
      "187 | 0.0 \n",
      "188 | 0.0 \n",
      "189 | 0.0 \n",
      "190 | 0.0 \n",
      "191 | 0.0 \n",
      "192 | 0.0 \n",
      "193 | 0.0 \n",
      "194 | 0.0 \n",
      "195 | 0.0 \n",
      "196 | 0.0 \n",
      "197 | 0.0 \n",
      "198 | 0.0 \n",
      "199 | 0.0 \n",
      "200 | 0.0 \n",
      "201 | 0.0 \n",
      "202 | 0.0 \n",
      "203 | 0.0 \n",
      "204 | 0.0 \n",
      "205 | 0.0 \n",
      "206 | 0.0 \n",
      "207 | 0.0 \n",
      "208 | 0.0 \n",
      "209 | 0.0 \n",
      "210 | 0.0 \n",
      "211 | 0.0 \n",
      "212 | 0.0 \n",
      "213 | 0.0 \n",
      "214 | 0.0 \n",
      "215 | 0.0 \n",
      "216 | 0.0 \n",
      "217 | 0.0 \n",
      "218 | 0.0 \n",
      "219 | 0.0 \n",
      "220 | 0.0 \n",
      "221 | 0.0 \n",
      "222 | 0.0 \n",
      "223 | 0.0 \n",
      "224 | 0.0 \n",
      "225 | 0.0 \n",
      "226 | 0.0 \n",
      "227 | 0.0 \n",
      "228 | 0.0 \n",
      "229 | 0.0 \n",
      "230 | 0.0 \n",
      "231 | 0.0 \n",
      "232 | 0.0 \n",
      "233 | 0.0 \n",
      "234 | 0.0 \n",
      "235 | 0.0 \n",
      "236 | 0.0 \n",
      "237 | 0.0 \n",
      "238 | 0.0 \n",
      "239 | 0.0 \n",
      "240 | 0.0 \n",
      "241 | 0.0 \n",
      "242 | 0.0 \n",
      "243 | 0.0 \n",
      "244 | 0.0 \n",
      "245 | 0.0 \n",
      "246 | 0.0 \n",
      "247 | 0.0 \n",
      "248 | 0.0 \n",
      "249 | 0.0 \n",
      "250 | 0.0 \n"
     ]
    }
   ],
   "source": [
    "user_mat, movie_mat = FunkSVD(ratings_mat, 4, 0.005, 250) #use your function with 4 latent features, lr of 0.005 and 250 iterations"
   ]
  },
  {
   "cell_type": "code",
   "execution_count": 78,
   "metadata": {},
   "outputs": [
    {
     "name": "stdout",
     "output_type": "stream",
     "text": [
      "[[ 10.69522633   9.99999963   9.99999987  10.00000032]\n",
      " [ 10.00000034   3.99999968   8.99999989  10.00000009]\n",
      " [  8.00000027   9.00000028  10.00000011   4.99999959]\n",
      " [  8.99999868   7.99999904   9.99999961  10.00000164]\n",
      " [ 10.0000002    5.00000008   9.00000004   8.99999983]\n",
      " [  6.00000028   4.          10.00000002   5.99999984]\n",
      " [  8.99999936   7.99999822   9.99999936   9.00000198]\n",
      " [  9.9999997    5.00000106   9.00000039   7.99999924]\n",
      " [  6.9999997    8.00000004  10.00000002   8.00000017]\n",
      " [  8.99999961   4.99999954   8.99999984   7.00000066]\n",
      " [  8.99999999   8.00000036  10.00000015   7.99999971]\n",
      " [  8.99999964  10.00000139  10.00000049   8.999999  ]\n",
      " [  9.9999989    8.99999791   9.99999923   8.00000255]\n",
      " [  5.00000006   7.99999945   4.99999982   8.00000049]\n",
      " [ 10.00000001   7.9999993    9.99999979  10.00000067]\n",
      " [  9.00000051   8.99999971   9.99999996  10.        ]\n",
      " [  9.00000135   8.00000097   8.00000042   7.99999837]\n",
      " [  9.99999999   8.00000048   1.00000018   9.99999959]\n",
      " [  5.00000007   6.00000059  10.00000023   9.99999946]\n",
      " [  8.00000084   7.00000163  10.00000061   6.99999806]]\n",
      "[[ nan  10.  10.  10.]\n",
      " [ 10.   4.   9.  10.]\n",
      " [  8.   9.  10.   5.]\n",
      " [  9.   8.  10.  10.]\n",
      " [ 10.   5.   9.   9.]\n",
      " [  6.   4.  10.   6.]\n",
      " [  9.   8.  10.   9.]\n",
      " [ 10.   5.   9.   8.]\n",
      " [  7.   8.  10.   8.]\n",
      " [  9.   5.   9.   7.]\n",
      " [  9.   8.  10.   8.]\n",
      " [  9.  10.  10.   9.]\n",
      " [ 10.   9.  10.   8.]\n",
      " [  5.   8.   5.   8.]\n",
      " [ 10.   8.  10.  10.]\n",
      " [  9.   9.  10.  10.]\n",
      " [  9.   8.   8.   8.]\n",
      " [ 10.   8.   1.  10.]\n",
      " [  5.   6.  10.  10.]\n",
      " [  8.   7.  10.   7.]]\n"
     ]
    }
   ],
   "source": [
    "#Compare the predicted and actual results\n",
    "print(np.dot(user_mat, movie_mat))\n",
    "print(ratings_mat)"
   ]
  },
  {
   "cell_type": "markdown",
   "metadata": {},
   "source": [
    "**Write your summary here.**"
   ]
  },
  {
   "cell_type": "markdown",
   "metadata": {},
   "source": [
    "The last time we placed an **np.nan** value into this matrix the entire svd algorithm in python broke.  Let's see if that is still the case using your FunkSVD function.  In the below cell, I have placed a nan into the first cell of your numpy array.  \n",
    "\n",
    "`4.` Use 4 latent features, a learning rate of 0.005, and 250 iterations.  Are you able to run your SVD without it breaking (something that was not true about the python built in)?  Do you get a prediction for the nan value?  What is your prediction for the missing value? Use the cells below to answer these questions."
   ]
  },
  {
   "cell_type": "code",
   "execution_count": 79,
   "metadata": {},
   "outputs": [
    {
     "data": {
      "text/plain": [
       "matrix([[ nan,  10.,  10.,  10.],\n",
       "        [ 10.,   4.,   9.,  10.],\n",
       "        [  8.,   9.,  10.,   5.],\n",
       "        [  9.,   8.,  10.,  10.],\n",
       "        [ 10.,   5.,   9.,   9.],\n",
       "        [  6.,   4.,  10.,   6.],\n",
       "        [  9.,   8.,  10.,   9.],\n",
       "        [ 10.,   5.,   9.,   8.],\n",
       "        [  7.,   8.,  10.,   8.],\n",
       "        [  9.,   5.,   9.,   7.],\n",
       "        [  9.,   8.,  10.,   8.],\n",
       "        [  9.,  10.,  10.,   9.],\n",
       "        [ 10.,   9.,  10.,   8.],\n",
       "        [  5.,   8.,   5.,   8.],\n",
       "        [ 10.,   8.,  10.,  10.],\n",
       "        [  9.,   9.,  10.,  10.],\n",
       "        [  9.,   8.,   8.,   8.],\n",
       "        [ 10.,   8.,   1.,  10.],\n",
       "        [  5.,   6.,  10.,  10.],\n",
       "        [  8.,   7.,  10.,   7.]])"
      ]
     },
     "execution_count": 79,
     "metadata": {},
     "output_type": "execute_result"
    }
   ],
   "source": [
    "# Here we are placing a nan into our original subset matrix\n",
    "ratings_mat[0, 0] = np.nan\n",
    "ratings_mat"
   ]
  },
  {
   "cell_type": "code",
   "execution_count": 80,
   "metadata": {},
   "outputs": [
    {
     "name": "stdout",
     "output_type": "stream",
     "text": [
      "Optimization Statistics\n",
      "Iterations | Mean Squared Error \n",
      "0 | 41.3 \n",
      "1 | 14.4 \n",
      "2 | 4.3 \n",
      "3 | 2.9 \n",
      "4 | 2.7 \n",
      "5 | 2.7 \n",
      "6 | 2.7 \n",
      "7 | 2.6 \n",
      "8 | 2.6 \n",
      "9 | 2.6 \n",
      "10 | 2.5 \n",
      "11 | 2.5 \n",
      "12 | 2.5 \n",
      "13 | 2.4 \n",
      "14 | 2.4 \n",
      "15 | 2.3 \n",
      "16 | 2.3 \n",
      "17 | 2.2 \n",
      "18 | 2.1 \n",
      "19 | 2.1 \n",
      "20 | 2.0 \n",
      "21 | 1.9 \n",
      "22 | 1.8 \n",
      "23 | 1.8 \n",
      "24 | 1.7 \n",
      "25 | 1.7 \n",
      "26 | 1.6 \n",
      "27 | 1.5 \n",
      "28 | 1.5 \n",
      "29 | 1.4 \n",
      "30 | 1.4 \n",
      "31 | 1.4 \n",
      "32 | 1.3 \n",
      "33 | 1.3 \n",
      "34 | 1.2 \n",
      "35 | 1.2 \n",
      "36 | 1.2 \n",
      "37 | 1.1 \n",
      "38 | 1.1 \n",
      "39 | 1.1 \n",
      "40 | 1.0 \n",
      "41 | 1.0 \n",
      "42 | 0.9 \n",
      "43 | 0.9 \n",
      "44 | 0.9 \n",
      "45 | 0.8 \n",
      "46 | 0.8 \n",
      "47 | 0.7 \n",
      "48 | 0.7 \n",
      "49 | 0.7 \n",
      "50 | 0.6 \n",
      "51 | 0.6 \n",
      "52 | 0.6 \n",
      "53 | 0.6 \n",
      "54 | 0.5 \n",
      "55 | 0.5 \n",
      "56 | 0.5 \n",
      "57 | 0.5 \n",
      "58 | 0.5 \n",
      "59 | 0.4 \n",
      "60 | 0.4 \n",
      "61 | 0.4 \n",
      "62 | 0.4 \n",
      "63 | 0.4 \n",
      "64 | 0.4 \n",
      "65 | 0.3 \n",
      "66 | 0.3 \n",
      "67 | 0.3 \n",
      "68 | 0.3 \n",
      "69 | 0.3 \n",
      "70 | 0.2 \n",
      "71 | 0.2 \n",
      "72 | 0.2 \n",
      "73 | 0.2 \n",
      "74 | 0.2 \n",
      "75 | 0.2 \n",
      "76 | 0.2 \n",
      "77 | 0.1 \n",
      "78 | 0.1 \n",
      "79 | 0.1 \n",
      "80 | 0.1 \n",
      "81 | 0.1 \n",
      "82 | 0.1 \n",
      "83 | 0.1 \n",
      "84 | 0.1 \n",
      "85 | 0.1 \n",
      "86 | 0.1 \n",
      "87 | 0.0 \n",
      "88 | 0.0 \n",
      "89 | 0.0 \n",
      "90 | 0.0 \n",
      "91 | 0.0 \n",
      "92 | 0.0 \n",
      "93 | 0.0 \n",
      "94 | 0.0 \n",
      "95 | 0.0 \n",
      "96 | 0.0 \n",
      "97 | 0.0 \n",
      "98 | 0.0 \n",
      "99 | 0.0 \n",
      "100 | 0.0 \n",
      "101 | 0.0 \n",
      "102 | 0.0 \n",
      "103 | 0.0 \n",
      "104 | 0.0 \n",
      "105 | 0.0 \n",
      "106 | 0.0 \n",
      "107 | 0.0 \n",
      "108 | 0.0 \n",
      "109 | 0.0 \n",
      "110 | 0.0 \n",
      "111 | 0.0 \n",
      "112 | 0.0 \n",
      "113 | 0.0 \n",
      "114 | 0.0 \n",
      "115 | 0.0 \n",
      "116 | 0.0 \n",
      "117 | 0.0 \n",
      "118 | 0.0 \n",
      "119 | 0.0 \n",
      "120 | 0.0 \n",
      "121 | 0.0 \n",
      "122 | 0.0 \n",
      "123 | 0.0 \n",
      "124 | 0.0 \n",
      "125 | 0.0 \n",
      "126 | 0.0 \n",
      "127 | 0.0 \n",
      "128 | 0.0 \n",
      "129 | 0.0 \n",
      "130 | 0.0 \n",
      "131 | 0.0 \n",
      "132 | 0.0 \n",
      "133 | 0.0 \n",
      "134 | 0.0 \n",
      "135 | 0.0 \n",
      "136 | 0.0 \n",
      "137 | 0.0 \n",
      "138 | 0.0 \n",
      "139 | 0.0 \n",
      "140 | 0.0 \n",
      "141 | 0.0 \n",
      "142 | 0.0 \n",
      "143 | 0.0 \n",
      "144 | 0.0 \n",
      "145 | 0.0 \n",
      "146 | 0.0 \n",
      "147 | 0.0 \n",
      "148 | 0.0 \n",
      "149 | 0.0 \n",
      "150 | 0.0 \n",
      "151 | 0.0 \n",
      "152 | 0.0 \n",
      "153 | 0.0 \n",
      "154 | 0.0 \n",
      "155 | 0.0 \n",
      "156 | 0.0 \n",
      "157 | 0.0 \n",
      "158 | 0.0 \n",
      "159 | 0.0 \n",
      "160 | 0.0 \n",
      "161 | 0.0 \n",
      "162 | 0.0 \n",
      "163 | 0.0 \n",
      "164 | 0.0 \n",
      "165 | 0.0 \n",
      "166 | 0.0 \n",
      "167 | 0.0 \n",
      "168 | 0.0 \n",
      "169 | 0.0 \n",
      "170 | 0.0 \n",
      "171 | 0.0 \n",
      "172 | 0.0 \n",
      "173 | 0.0 \n",
      "174 | 0.0 \n",
      "175 | 0.0 \n",
      "176 | 0.0 \n",
      "177 | 0.0 \n",
      "178 | 0.0 \n",
      "179 | 0.0 \n",
      "180 | 0.0 \n",
      "181 | 0.0 \n",
      "182 | 0.0 \n",
      "183 | 0.0 \n",
      "184 | 0.0 \n",
      "185 | 0.0 \n",
      "186 | 0.0 \n",
      "187 | 0.0 \n",
      "188 | 0.0 \n",
      "189 | 0.0 \n",
      "190 | 0.0 \n",
      "191 | 0.0 \n",
      "192 | 0.0 \n",
      "193 | 0.0 \n",
      "194 | 0.0 \n",
      "195 | 0.0 \n",
      "196 | 0.0 \n",
      "197 | 0.0 \n",
      "198 | 0.0 \n",
      "199 | 0.0 \n",
      "200 | 0.0 \n",
      "201 | 0.0 \n",
      "202 | 0.0 \n",
      "203 | 0.0 \n",
      "204 | 0.0 \n",
      "205 | 0.0 \n",
      "206 | 0.0 \n",
      "207 | 0.0 \n",
      "208 | 0.0 \n",
      "209 | 0.0 \n",
      "210 | 0.0 \n",
      "211 | 0.0 \n",
      "212 | 0.0 \n",
      "213 | 0.0 \n",
      "214 | 0.0 \n",
      "215 | 0.0 \n",
      "216 | 0.0 \n",
      "217 | 0.0 \n",
      "218 | 0.0 \n",
      "219 | 0.0 \n",
      "220 | 0.0 \n",
      "221 | 0.0 \n",
      "222 | 0.0 \n",
      "223 | 0.0 \n",
      "224 | 0.0 \n",
      "225 | 0.0 \n",
      "226 | 0.0 \n",
      "227 | 0.0 \n",
      "228 | 0.0 \n",
      "229 | 0.0 \n",
      "230 | 0.0 \n",
      "231 | 0.0 \n",
      "232 | 0.0 \n",
      "233 | 0.0 \n",
      "234 | 0.0 \n",
      "235 | 0.0 \n",
      "236 | 0.0 \n",
      "237 | 0.0 \n",
      "238 | 0.0 \n",
      "239 | 0.0 \n",
      "240 | 0.0 \n",
      "241 | 0.0 \n",
      "242 | 0.0 \n",
      "243 | 0.0 \n",
      "244 | 0.0 \n",
      "245 | 0.0 \n",
      "246 | 0.0 \n",
      "247 | 0.0 \n",
      "248 | 0.0 \n",
      "249 | 0.0 \n",
      "250 | 0.0 \n"
     ]
    }
   ],
   "source": [
    "# run SVD on the matrix with the missing value\n",
    "user_mat, movie_mat = FunkSVD(ratings_mat, 4, 0.005, 250)#use your function with 4 latent features, lr of 0.005 and 250 iterations"
   ]
  },
  {
   "cell_type": "code",
   "execution_count": 81,
   "metadata": {},
   "outputs": [
    {
     "name": "stdout",
     "output_type": "stream",
     "text": [
      "The predicted value for the missing rating is 9.18087226108087:\n",
      "\n",
      "The actual value for the missing rating is nan:\n",
      "\n",
      "That's right! You just predicted a rating for a user-movie pair that was never rated!\n",
      "But if you look in the original matrix, this was actually a value of 10. Not bad!\n"
     ]
    }
   ],
   "source": [
    "# Run this cell to see if you were able to predict for the missing value\n",
    "preds = np.dot(user_mat, movie_mat)\n",
    "print(\"The predicted value for the missing rating is {}:\".format(preds[0,0]))\n",
    "print()\n",
    "print(\"The actual value for the missing rating is {}:\".format(ratings_mat[0,0]))\n",
    "print()\n",
    "assert np.isnan(preds[0,0]) == False\n",
    "print(\"That's right! You just predicted a rating for a user-movie pair that was never rated!\")\n",
    "print(\"But if you look in the original matrix, this was actually a value of 10. Not bad!\")"
   ]
  },
  {
   "cell_type": "markdown",
   "metadata": {},
   "source": [
    "Now let's extend this to a more realistic example. Unfortunately, running this function on your entire user-movie matrix is still not something you likely want to do on your local machine.  However, we can see how well this example extends to 1000 users.  In the above portion, you were using a very small subset of data with no missing values.\n",
    "\n",
    "`5.` Given the size of this matrix, this will take quite a bit of time.  Consider the following hyperparameters: 4 latent features, 0.005 learning rate, and 20 iterations.  Grab a snack, take a walk, and this should be done running in a bit."
   ]
  },
  {
   "cell_type": "code",
   "execution_count": 82,
   "metadata": {},
   "outputs": [
    {
     "name": "stdout",
     "output_type": "stream",
     "text": [
      "Optimization Statistics\n",
      "Iterations | Mean Squared Error \n",
      "0 | 23.4 \n",
      "1 | 10.8 \n",
      "2 | 7.5 \n",
      "3 | 5.8 \n",
      "4 | 4.7 \n",
      "5 | 3.9 \n",
      "6 | 3.4 \n",
      "7 | 2.9 \n",
      "8 | 2.6 \n",
      "9 | 2.3 \n",
      "10 | 2.1 \n",
      "11 | 1.9 \n",
      "12 | 1.7 \n",
      "13 | 1.6 \n",
      "14 | 1.5 \n",
      "15 | 1.4 \n",
      "16 | 1.3 \n",
      "17 | 1.2 \n",
      "18 | 1.1 \n",
      "19 | 1.1 \n",
      "20 | 1.0 \n"
     ]
    }
   ],
   "source": [
    "# Setting up a matrix of the first 1000 users with movie ratings\n",
    "first_1000_users = np.matrix(user_by_movie.head(1000))\n",
    "\n",
    "# perform funkSVD on the matrix of the top 1000 users\n",
    "user_mat, movie_mat = FunkSVD(first_1000_users, 4, 0.005, 20)#fit to 1000 users with 4 latent features, lr of 0.005, and 20 iterations"
   ]
  },
  {
   "cell_type": "markdown",
   "metadata": {},
   "source": [
    "`6.` Now that you have a set of predictions for each user-movie pair,  let's answer a few questions about your results. Provide the correct values for each of the variables below, and check your solutions using the tests below."
   ]
  },
  {
   "cell_type": "code",
   "execution_count": 83,
   "metadata": {},
   "outputs": [
    {
     "data": {
      "text/plain": [
       "matrix([[ nan,  nan,  nan, ...,  nan,  nan,  nan],\n",
       "        [ nan,  nan,  nan, ...,  nan,  nan,  nan],\n",
       "        [ nan,  nan,  nan, ...,  nan,  nan,  nan],\n",
       "        ..., \n",
       "        [ nan,  nan,  nan, ...,  nan,  nan,  nan],\n",
       "        [ nan,  nan,  nan, ...,  nan,  nan,  nan],\n",
       "        [ nan,  nan,  nan, ...,  nan,  nan,  nan]])"
      ]
     },
     "execution_count": 83,
     "metadata": {},
     "output_type": "execute_result"
    }
   ],
   "source": [
    "first_1000_users"
   ]
  },
  {
   "cell_type": "code",
   "execution_count": null,
   "metadata": {
    "collapsed": true
   },
   "outputs": [],
   "source": [
    "# Replace each of the comments below with the correct values\n",
    "num_ratings = # How many actual ratings exist in first_1000_users\n",
    "print(\"The number of actual ratings in the first_1000_users is {}.\".format(num_ratings))\n",
    "print()\n",
    "\n",
    "\n",
    "ratings_for_missing = # How many ratings did we make for user-movie pairs that didn't actually have ratings\n",
    "print(\"The number of ratings made for user-movie pairs that didn't have ratings is {}\".format(ratings_for_missing))"
   ]
  },
  {
   "cell_type": "code",
   "execution_count": null,
   "metadata": {
    "collapsed": true
   },
   "outputs": [],
   "source": [
    "# Test your results against the solution\n",
    "assert num_ratings == 10852, \"Oops!  The number of actual ratings doesn't quite look right.\"\n",
    "assert ratings_for_missing == 31234148, \"Oops!  The number of movie-user pairs that you made ratings for that didn't actually have ratings doesn't look right.\"\n",
    "\n",
    "# Make sure you made predictions on all the missing user-movie pairs\n",
    "preds = np.dot(user_mat, movie_mat)\n",
    "assert np.isnan(preds).sum() == 0\n",
    "print(\"Nice job!  Looks like you have predictions made for all the missing user-movie pairs! But I still have one question... How good are they?\")"
   ]
  },
  {
   "cell_type": "code",
   "execution_count": null,
   "metadata": {
    "collapsed": true
   },
   "outputs": [],
   "source": []
  }
 ],
 "metadata": {
  "kernelspec": {
   "display_name": "Python 3",
   "language": "python",
   "name": "python3"
  },
  "language_info": {
   "codemirror_mode": {
    "name": "ipython",
    "version": 3
   },
   "file_extension": ".py",
   "mimetype": "text/x-python",
   "name": "python",
   "nbconvert_exporter": "python",
   "pygments_lexer": "ipython3",
   "version": "3.6.3"
  }
 },
 "nbformat": 4,
 "nbformat_minor": 2
}
